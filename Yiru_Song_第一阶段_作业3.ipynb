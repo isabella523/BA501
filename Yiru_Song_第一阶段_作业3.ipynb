{
  "nbformat": 4,
  "nbformat_minor": 0,
  "metadata": {
    "colab": {
      "name": "Yiru Song-第一阶段-作业3.ipynb",
      "version": "0.3.2",
      "views": {},
      "default_view": {},
      "provenance": []
    },
    "kernelspec": {
      "name": "python3",
      "display_name": "Python 3"
    }
  },
  "cells": [
    {
      "metadata": {
        "id": "wevEGIKzpdB9",
        "colab_type": "text"
      },
      "cell_type": "markdown",
      "source": [
        "1."
      ]
    },
    {
      "metadata": {
        "id": "XyL6pUtGpww9",
        "colab_type": "code",
        "colab": {
          "autoexec": {
            "startup": false,
            "wait_interval": 0
          },
          "base_uri": "https://localhost:8080/",
          "height": 34
        },
        "outputId": "bc0e3de2-6fc9-4fea-8590-b4975cb008ff",
        "executionInfo": {
          "status": "ok",
          "timestamp": 1526418884162,
          "user_tz": 240,
          "elapsed": 263,
          "user": {
            "displayName": "Yiru Song",
            "photoUrl": "//lh5.googleusercontent.com/-AFWFHafTBPY/AAAAAAAAAAI/AAAAAAAAAoM/6oMcbQjw8qM/s50-c-k-no/photo.jpg",
            "userId": "102279239429715811765"
          }
        }
      },
      "cell_type": "code",
      "source": [
        "import numpy as np\n",
        "import pandas as pd\n",
        "# remove duplicate in a numpy array\n",
        "my_array = np.array([1, 2, 2, 4, 5])\n",
        "np.unique(my_array)"
      ],
      "execution_count": 5,
      "outputs": [
        {
          "output_type": "execute_result",
          "data": {
            "text/plain": [
              "array([1, 2, 4, 5])"
            ]
          },
          "metadata": {
            "tags": []
          },
          "execution_count": 5
        }
      ]
    },
    {
      "metadata": {
        "id": "mOikQ9dW2bio",
        "colab_type": "code",
        "colab": {
          "autoexec": {
            "startup": false,
            "wait_interval": 0
          },
          "base_uri": "https://localhost:8080/",
          "height": 106
        },
        "outputId": "a9cd83a6-58de-4978-af46-a42ae765b4fd",
        "executionInfo": {
          "status": "ok",
          "timestamp": 1526422262470,
          "user_tz": 240,
          "elapsed": 266,
          "user": {
            "displayName": "Yiru Song",
            "photoUrl": "//lh5.googleusercontent.com/-AFWFHafTBPY/AAAAAAAAAAI/AAAAAAAAAoM/6oMcbQjw8qM/s50-c-k-no/photo.jpg",
            "userId": "102279239429715811765"
          }
        }
      },
      "cell_type": "code",
      "source": [
        "#remove duplicate in a dataframework\n",
        "b = pd.DataFrame([[1,2,3,4,5],[1,2,3,4,5],[1,2,3,4,6]])\n",
        "b.drop_duplicates()"
      ],
      "execution_count": 11,
      "outputs": [
        {
          "output_type": "execute_result",
          "data": {
            "text/html": [
              "<div>\n",
              "<style scoped>\n",
              "    .dataframe tbody tr th:only-of-type {\n",
              "        vertical-align: middle;\n",
              "    }\n",
              "\n",
              "    .dataframe tbody tr th {\n",
              "        vertical-align: top;\n",
              "    }\n",
              "\n",
              "    .dataframe thead th {\n",
              "        text-align: right;\n",
              "    }\n",
              "</style>\n",
              "<table border=\"1\" class=\"dataframe\">\n",
              "  <thead>\n",
              "    <tr style=\"text-align: right;\">\n",
              "      <th></th>\n",
              "      <th>0</th>\n",
              "      <th>1</th>\n",
              "      <th>2</th>\n",
              "      <th>3</th>\n",
              "      <th>4</th>\n",
              "    </tr>\n",
              "  </thead>\n",
              "  <tbody>\n",
              "    <tr>\n",
              "      <th>0</th>\n",
              "      <td>1</td>\n",
              "      <td>2</td>\n",
              "      <td>3</td>\n",
              "      <td>4</td>\n",
              "      <td>5</td>\n",
              "    </tr>\n",
              "    <tr>\n",
              "      <th>2</th>\n",
              "      <td>1</td>\n",
              "      <td>2</td>\n",
              "      <td>3</td>\n",
              "      <td>4</td>\n",
              "      <td>6</td>\n",
              "    </tr>\n",
              "  </tbody>\n",
              "</table>\n",
              "</div>"
            ],
            "text/plain": [
              "   0  1  2  3  4\n",
              "0  1  2  3  4  5\n",
              "2  1  2  3  4  6"
            ]
          },
          "metadata": {
            "tags": []
          },
          "execution_count": 11
        }
      ]
    },
    {
      "metadata": {
        "id": "lJfO9ywkpbG0",
        "colab_type": "text"
      },
      "cell_type": "markdown",
      "source": [
        "2."
      ]
    },
    {
      "metadata": {
        "id": "xW6lAPiLsZqT",
        "colab_type": "text"
      },
      "cell_type": "markdown",
      "source": [
        "SELECT round(100*count(if b.acceptor_id is null then 0 else 1) / count(a.requestor_id) ,2) AS acceptance_rate\n",
        "FROM Friend_Request a\n",
        "LEFT JOIN Request_Accepted b \n",
        "  ON b.acceptor_id = a.sent_to_id \n",
        "  AND a.requester_id = b.requester_id"
      ]
    },
    {
      "metadata": {
        "id": "jOdz8CVwqx2S",
        "colab_type": "code",
        "colab": {
          "autoexec": {
            "startup": false,
            "wait_interval": 0
          }
        }
      },
      "cell_type": "code",
      "source": [
        "result=pd.merge(friend_request, request_accepted,how='left', left_on=['sent_to_id','requester_id']), right_on=[\"requester_id\",\"acceptor_id\"]\n",
        "result[\"acceptance_rate\"]=np.count_nonzero(~np.isnan(result['acceptor_id']))/len(result['requester_id']*1.0)"
      ],
      "execution_count": 0,
      "outputs": []
    },
    {
      "metadata": {
        "id": "jTXbHqKOQ0T-",
        "colab_type": "text"
      },
      "cell_type": "markdown",
      "source": [
        "3."
      ]
    },
    {
      "metadata": {
        "id": "2X46DlHZQbCK",
        "colab_type": "code",
        "colab": {
          "autoexec": {
            "startup": false,
            "wait_interval": 0
          },
          "base_uri": "https://localhost:8080/",
          "height": 134
        },
        "outputId": "ddf08b1e-95f9-43c4-e47e-6eaed8cf937b",
        "executionInfo": {
          "status": "ok",
          "timestamp": 1526418656324,
          "user_tz": 240,
          "elapsed": 333,
          "user": {
            "displayName": "Yiru Song",
            "photoUrl": "//lh5.googleusercontent.com/-AFWFHafTBPY/AAAAAAAAAAI/AAAAAAAAAoM/6oMcbQjw8qM/s50-c-k-no/photo.jpg",
            "userId": "102279239429715811765"
          }
        }
      },
      "cell_type": "code",
      "source": [
        "mylist=[\"4175004175004172\",\"4917491749174917\",\"346416800707698\",\"376416800707698\",\"37641680070769832112\",\"36641680070769\",\"54545641680070769\"]\n",
        "def CCIdentify(str):\n",
        "  if (str[0]=='4'and len(str)==16):\n",
        "    if (str[0:4] in ['4026', '4405', '4508', '4844','4913', '4917'] or str[0:5]=='417500'):\n",
        "      print ('this card is issued by \"VISAELECTRON\"')\n",
        "    else:\n",
        "      print('this card is issued by VISA')\n",
        "  elif (str[:2] in ['34','37'] and len(str)==15):\n",
        "    print ('this card is issued by AMEX')\n",
        "  elif (str[0:2]=='36'and len(str)==14):\n",
        "    print (\"this card is issued by Diner's Club\")\n",
        "  else:\n",
        "    print (\"try again\")\n",
        "    return;\n",
        "for cc in mylist:\n",
        "   CCIdentify(cc)           "
      ],
      "execution_count": 3,
      "outputs": [
        {
          "output_type": "stream",
          "text": [
            "this card is issued by VISA\n",
            "this card is issued by \"VISAELECTRON\"\n",
            "this card is issued by AMEX\n",
            "this card is issued by AMEX\n",
            "try again\n",
            "this card is issued by Diner's Club\n",
            "try again\n"
          ],
          "name": "stdout"
        }
      ]
    },
    {
      "metadata": {
        "id": "N4JkKN9TpgYf",
        "colab_type": "text"
      },
      "cell_type": "markdown",
      "source": [
        "4."
      ]
    },
    {
      "metadata": {
        "id": "sDuMIZcHyWfa",
        "colab_type": "code",
        "colab": {
          "autoexec": {
            "startup": false,
            "wait_interval": 0
          }
        }
      },
      "cell_type": "code",
      "source": [
        "import datetime"
      ],
      "execution_count": 0,
      "outputs": []
    },
    {
      "metadata": {
        "id": "cQZD_6sdyaIT",
        "colab_type": "code",
        "colab": {
          "autoexec": {
            "startup": false,
            "wait_interval": 0
          },
          "resources": {
            "http://localhost:8080/nbextensions/google.colab/files.js": {
              "data": "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",
              "ok": true,
              "headers": [
                [
                  "content-type",
                  "application/javascript"
                ]
              ],
              "status": 200,
              "status_text": ""
            }
          },
          "base_uri": "https://localhost:8080/",
          "height": 92
        },
        "outputId": "909b0df6-fd8d-499f-dcf4-a4da2b3f6210",
        "executionInfo": {
          "status": "ok",
          "timestamp": 1526421203185,
          "user_tz": 240,
          "elapsed": 35711,
          "user": {
            "displayName": "Yiru Song",
            "photoUrl": "//lh5.googleusercontent.com/-AFWFHafTBPY/AAAAAAAAAAI/AAAAAAAAAoM/6oMcbQjw8qM/s50-c-k-no/photo.jpg",
            "userId": "102279239429715811765"
          }
        }
      },
      "cell_type": "code",
      "source": [
        "from google.colab import files\n",
        "\n",
        "uploaded = files.upload()\n",
        "\n",
        "for fn in uploaded.keys():\n",
        "  print('User uploaded file \"{name}\" with length {length} bytes'.format(\n",
        "      name=fn, length=len(uploaded[fn])))"
      ],
      "execution_count": 7,
      "outputs": [
        {
          "output_type": "display_data",
          "data": {
            "text/html": [
              "\n",
              "     <input type=\"file\" id=\"files-34091589-c11f-48d7-8f59-c77e50710963\" name=\"files[]\" multiple disabled />\n",
              "     <output id=\"result-34091589-c11f-48d7-8f59-c77e50710963\">\n",
              "      Upload widget is only available when the cell has been executed in the\n",
              "      current browser session. Please rerun this cell to enable.\n",
              "      </output>\n",
              "      <script src=\"/nbextensions/google.colab/files.js\"></script> "
            ],
            "text/plain": [
              "<IPython.core.display.HTML object>"
            ]
          },
          "metadata": {
            "tags": []
          }
        },
        {
          "output_type": "stream",
          "text": [
            "Saving BA501_python_data.csv to BA501_python_data.csv\n",
            "User uploaded file \"BA501_python_data.csv\" with length 6058269 bytes\n"
          ],
          "name": "stdout"
        }
      ]
    },
    {
      "metadata": {
        "id": "51ZTGirKy5zo",
        "colab_type": "code",
        "colab": {
          "autoexec": {
            "startup": false,
            "wait_interval": 0
          },
          "base_uri": "https://localhost:8080/",
          "height": 195
        },
        "outputId": "98b56fae-869d-478e-c9d0-5608cbf48899",
        "executionInfo": {
          "status": "ok",
          "timestamp": 1526421249915,
          "user_tz": 240,
          "elapsed": 392,
          "user": {
            "displayName": "Yiru Song",
            "photoUrl": "//lh5.googleusercontent.com/-AFWFHafTBPY/AAAAAAAAAAI/AAAAAAAAAoM/6oMcbQjw8qM/s50-c-k-no/photo.jpg",
            "userId": "102279239429715811765"
          }
        }
      },
      "cell_type": "code",
      "source": [
        "import io\n",
        "\n",
        "my_data = pd.read_csv(io.StringIO(uploaded['BA501_python_data.csv'].decode('utf-8')))\n",
        "my_data.head(5)"
      ],
      "execution_count": 9,
      "outputs": [
        {
          "output_type": "execute_result",
          "data": {
            "text/html": [
              "<div>\n",
              "<style scoped>\n",
              "    .dataframe tbody tr th:only-of-type {\n",
              "        vertical-align: middle;\n",
              "    }\n",
              "\n",
              "    .dataframe tbody tr th {\n",
              "        vertical-align: top;\n",
              "    }\n",
              "\n",
              "    .dataframe thead th {\n",
              "        text-align: right;\n",
              "    }\n",
              "</style>\n",
              "<table border=\"1\" class=\"dataframe\">\n",
              "  <thead>\n",
              "    <tr style=\"text-align: right;\">\n",
              "      <th></th>\n",
              "      <th>country</th>\n",
              "      <th>date</th>\n",
              "      <th>experiment_id</th>\n",
              "      <th>order_id</th>\n",
              "      <th>spend_usd</th>\n",
              "      <th>user_id</th>\n",
              "      <th>vertical</th>\n",
              "    </tr>\n",
              "  </thead>\n",
              "  <tbody>\n",
              "    <tr>\n",
              "      <th>0</th>\n",
              "      <td>JP</td>\n",
              "      <td>20170402</td>\n",
              "      <td>12624548</td>\n",
              "      <td>5813140433216629693</td>\n",
              "      <td>16.138855</td>\n",
              "      <td>5006730028073359543</td>\n",
              "      <td>ANDROID_APPS</td>\n",
              "    </tr>\n",
              "    <tr>\n",
              "      <th>1</th>\n",
              "      <td>US</td>\n",
              "      <td>20170403</td>\n",
              "      <td>12624549</td>\n",
              "      <td>16333056276711034931</td>\n",
              "      <td>9.990000</td>\n",
              "      <td>5938685669571545259</td>\n",
              "      <td>ANDROID_APPS</td>\n",
              "    </tr>\n",
              "    <tr>\n",
              "      <th>2</th>\n",
              "      <td>JP</td>\n",
              "      <td>20170404</td>\n",
              "      <td>12624548</td>\n",
              "      <td>11227119161741298366</td>\n",
              "      <td>19.887087</td>\n",
              "      <td>17623708458399141713</td>\n",
              "      <td>ANDROID_APPS</td>\n",
              "    </tr>\n",
              "    <tr>\n",
              "      <th>3</th>\n",
              "      <td>US</td>\n",
              "      <td>20170403</td>\n",
              "      <td>12624548</td>\n",
              "      <td>11927299833124210932</td>\n",
              "      <td>19.990000</td>\n",
              "      <td>18042812344456618148</td>\n",
              "      <td>ANDROID_APPS</td>\n",
              "    </tr>\n",
              "    <tr>\n",
              "      <th>4</th>\n",
              "      <td>JP</td>\n",
              "      <td>20170403</td>\n",
              "      <td>12624549</td>\n",
              "      <td>11644727017708872749</td>\n",
              "      <td>88.220093</td>\n",
              "      <td>4325104700699531031</td>\n",
              "      <td>ANDROID_APPS</td>\n",
              "    </tr>\n",
              "  </tbody>\n",
              "</table>\n",
              "</div>"
            ],
            "text/plain": [
              "  country      date  experiment_id              order_id  spend_usd  \\\n",
              "0      JP  20170402       12624548   5813140433216629693  16.138855   \n",
              "1      US  20170403       12624549  16333056276711034931   9.990000   \n",
              "2      JP  20170404       12624548  11227119161741298366  19.887087   \n",
              "3      US  20170403       12624548  11927299833124210932  19.990000   \n",
              "4      JP  20170403       12624549  11644727017708872749  88.220093   \n",
              "\n",
              "                user_id      vertical  \n",
              "0   5006730028073359543  ANDROID_APPS  \n",
              "1   5938685669571545259  ANDROID_APPS  \n",
              "2  17623708458399141713  ANDROID_APPS  \n",
              "3  18042812344456618148  ANDROID_APPS  \n",
              "4   4325104700699531031  ANDROID_APPS  "
            ]
          },
          "metadata": {
            "tags": []
          },
          "execution_count": 9
        }
      ]
    },
    {
      "metadata": {
        "id": "wQE6JElGy-xt",
        "colab_type": "code",
        "colab": {
          "autoexec": {
            "startup": false,
            "wait_interval": 0
          },
          "base_uri": "https://localhost:8080/",
          "height": 195
        },
        "outputId": "849da3bc-77ec-45b7-d81f-99c300557f5c",
        "executionInfo": {
          "status": "ok",
          "timestamp": 1526421291016,
          "user_tz": 240,
          "elapsed": 282,
          "user": {
            "displayName": "Yiru Song",
            "photoUrl": "//lh5.googleusercontent.com/-AFWFHafTBPY/AAAAAAAAAAI/AAAAAAAAAoM/6oMcbQjw8qM/s50-c-k-no/photo.jpg",
            "userId": "102279239429715811765"
          }
        }
      },
      "cell_type": "code",
      "source": [
        "my_data.date = pd.to_datetime(my_data.date, format='%Y%m%d')\n",
        "my_data.head(5)"
      ],
      "execution_count": 10,
      "outputs": [
        {
          "output_type": "execute_result",
          "data": {
            "text/html": [
              "<div>\n",
              "<style scoped>\n",
              "    .dataframe tbody tr th:only-of-type {\n",
              "        vertical-align: middle;\n",
              "    }\n",
              "\n",
              "    .dataframe tbody tr th {\n",
              "        vertical-align: top;\n",
              "    }\n",
              "\n",
              "    .dataframe thead th {\n",
              "        text-align: right;\n",
              "    }\n",
              "</style>\n",
              "<table border=\"1\" class=\"dataframe\">\n",
              "  <thead>\n",
              "    <tr style=\"text-align: right;\">\n",
              "      <th></th>\n",
              "      <th>country</th>\n",
              "      <th>date</th>\n",
              "      <th>experiment_id</th>\n",
              "      <th>order_id</th>\n",
              "      <th>spend_usd</th>\n",
              "      <th>user_id</th>\n",
              "      <th>vertical</th>\n",
              "    </tr>\n",
              "  </thead>\n",
              "  <tbody>\n",
              "    <tr>\n",
              "      <th>0</th>\n",
              "      <td>JP</td>\n",
              "      <td>2017-04-02</td>\n",
              "      <td>12624548</td>\n",
              "      <td>5813140433216629693</td>\n",
              "      <td>16.138855</td>\n",
              "      <td>5006730028073359543</td>\n",
              "      <td>ANDROID_APPS</td>\n",
              "    </tr>\n",
              "    <tr>\n",
              "      <th>1</th>\n",
              "      <td>US</td>\n",
              "      <td>2017-04-03</td>\n",
              "      <td>12624549</td>\n",
              "      <td>16333056276711034931</td>\n",
              "      <td>9.990000</td>\n",
              "      <td>5938685669571545259</td>\n",
              "      <td>ANDROID_APPS</td>\n",
              "    </tr>\n",
              "    <tr>\n",
              "      <th>2</th>\n",
              "      <td>JP</td>\n",
              "      <td>2017-04-04</td>\n",
              "      <td>12624548</td>\n",
              "      <td>11227119161741298366</td>\n",
              "      <td>19.887087</td>\n",
              "      <td>17623708458399141713</td>\n",
              "      <td>ANDROID_APPS</td>\n",
              "    </tr>\n",
              "    <tr>\n",
              "      <th>3</th>\n",
              "      <td>US</td>\n",
              "      <td>2017-04-03</td>\n",
              "      <td>12624548</td>\n",
              "      <td>11927299833124210932</td>\n",
              "      <td>19.990000</td>\n",
              "      <td>18042812344456618148</td>\n",
              "      <td>ANDROID_APPS</td>\n",
              "    </tr>\n",
              "    <tr>\n",
              "      <th>4</th>\n",
              "      <td>JP</td>\n",
              "      <td>2017-04-03</td>\n",
              "      <td>12624549</td>\n",
              "      <td>11644727017708872749</td>\n",
              "      <td>88.220093</td>\n",
              "      <td>4325104700699531031</td>\n",
              "      <td>ANDROID_APPS</td>\n",
              "    </tr>\n",
              "  </tbody>\n",
              "</table>\n",
              "</div>"
            ],
            "text/plain": [
              "  country       date  experiment_id              order_id  spend_usd  \\\n",
              "0      JP 2017-04-02       12624548   5813140433216629693  16.138855   \n",
              "1      US 2017-04-03       12624549  16333056276711034931   9.990000   \n",
              "2      JP 2017-04-04       12624548  11227119161741298366  19.887087   \n",
              "3      US 2017-04-03       12624548  11927299833124210932  19.990000   \n",
              "4      JP 2017-04-03       12624549  11644727017708872749  88.220093   \n",
              "\n",
              "                user_id      vertical  \n",
              "0   5006730028073359543  ANDROID_APPS  \n",
              "1   5938685669571545259  ANDROID_APPS  \n",
              "2  17623708458399141713  ANDROID_APPS  \n",
              "3  18042812344456618148  ANDROID_APPS  \n",
              "4   4325104700699531031  ANDROID_APPS  "
            ]
          },
          "metadata": {
            "tags": []
          },
          "execution_count": 10
        }
      ]
    },
    {
      "metadata": {
        "id": "JCjUCWKKzJHs",
        "colab_type": "code",
        "colab": {
          "autoexec": {
            "startup": false,
            "wait_interval": 0
          }
        }
      },
      "cell_type": "code",
      "source": [
        "import matplotlib.pyplot as plt\n",
        "# plot the time series\n",
        "def PlotSeries(experiment_series, control_series):\n",
        "    fig, ax = plt.subplots()\n",
        "    ax.plot(experiment_series, color=\"red\", label=\"experiment\")\n",
        "    ax.plot(control_series, color=\"blue\", label=\"control\")\n",
        "    ax.set_title(\"Red vs. Blue\")\n",
        "    ax.set_ylabel(\"Total spend\")\n",
        "    ax.grid(True, which=\"both\")\n",
        "    # change legend        \n",
        "    ax.legend()\n",
        "    # format date\n",
        "    plt.gcf().autofmt_xdate()\n",
        "            \n",
        "def GetCumSeries(my_id,country,my_data):\n",
        "    table = my_data[[\"date\", \"spend_usd\"]][(my_data.experiment_id == my_id) & (my_data.country == country)]\n",
        "    series = table.groupby('date')['spend_usd'].sum() \n",
        "    cumseries = np.cumsum(series)\n",
        "    revenue = cumseries[-1]\n",
        "    return((cumseries, revenue))        \n",
        "    \n",
        "def PrintCumulativeTimeSeries(experiment_ids, country,my_data):\n",
        "    experiment_series=GetCumSeries(experiment_ids[0],country,my_data)[0]\n",
        "    control_series=GetCumSeries(experiment_ids[1],country,my_data)[0]\n",
        "    PlotSeries(experiment_series,control_series)\n",
        "    revenue_experiment=GetCumSeries(experiment_ids[0],country,my_data)[1]\n",
        "    revenue_control=GetCumSeries(experiment_ids[1],country,my_data)[1]\n",
        "    revenue_uplift=100.0*(revenue_experiment-revenue_control)/revenue_control\n",
        "    return(\"The revenue uplift is \"+ str(revenue_uplift)+' %')\n",
        "   \n",
        "   \n",
        "    "
      ],
      "execution_count": 0,
      "outputs": []
    },
    {
      "metadata": {
        "id": "8djX9GXW7m1E",
        "colab_type": "code",
        "colab": {
          "autoexec": {
            "startup": false,
            "wait_interval": 0
          },
          "base_uri": "https://localhost:8080/",
          "height": 374
        },
        "outputId": "4c48017e-df73-4dac-c4d4-7b0365aeaed0",
        "executionInfo": {
          "status": "ok",
          "timestamp": 1526424282267,
          "user_tz": 240,
          "elapsed": 531,
          "user": {
            "displayName": "Yiru Song",
            "photoUrl": "//lh5.googleusercontent.com/-AFWFHafTBPY/AAAAAAAAAAI/AAAAAAAAAoM/6oMcbQjw8qM/s50-c-k-no/photo.jpg",
            "userId": "102279239429715811765"
          }
        }
      },
      "cell_type": "code",
      "source": [
        "PrintCumulativeTimeSeries([12624548,12624549], \"US\",my_data)"
      ],
      "execution_count": 52,
      "outputs": [
        {
          "output_type": "execute_result",
          "data": {
            "text/plain": [
              "'The revenue uplift is -4.465808189455078 %'"
            ]
          },
          "metadata": {
            "tags": []
          },
          "execution_count": 52
        },
        {
          "output_type": "display_data",
          "data": {
            "image/png": "[encoded data removed]",
            "text/plain": [
              "<matplotlib.figure.Figure at 0x7faddebc0898>"
            ]
          },
          "metadata": {
            "tags": []
          }
        }
      ]
    }
  ]
}