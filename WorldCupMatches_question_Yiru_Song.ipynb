{
  "nbformat": 4,
  "nbformat_minor": 0,
  "metadata": {
    "colab": {
      "name": "WorldCupMatches_question_Yiru Song.ipynb",
      "version": "0.3.2",
      "views": {},
      "default_view": {},
      "provenance": [
        {
          "file_id": "1RtXiQuS5V_5-TwfYcgSLFS6bfbj3cPie",
          "timestamp": 1531856850684
        }
      ]
    },
    "kernelspec": {
      "display_name": "Python 2",
      "language": "python",
      "name": "python2"
    }
  },
  "cells": [
    {
      "metadata": {
        "id": "lmeQMtWzxoEk",
        "colab_type": "text"
      },
      "cell_type": "markdown",
      "source": [
        "## World Cup Matches"
      ]
    },
    {
      "metadata": {
        "id": "wwER7o22xoEm",
        "colab_type": "text"
      },
      "cell_type": "markdown",
      "source": [
        "We use World Cup Matches dataset from [Kaggle](https://www.kaggle.com/abecklas/fifa-world-cup) to go over the basic functions in Python. [FIFA World Cup](https://en.wikipedia.org/wiki/FIFA_World_Cup), often simply called the World Cup, is an international association football competition contested by the senior men's national teams of the members of the Fédération Internationale de Football Association (FIFA). World Cup starts at 1930 and is held every 4 years. \n",
        "\n",
        "Now please follow the instructions below and complete 8 questions. Remember, as a business analyst, it is more important to make interpretation of the results rather than endless tunning code. Don't waste time to make comments or find efficient algorithms. Concentrate more on how to explain the results you get from the data. Think thoroughly and creatively. Don't forget about the domain knowledge! "
      ]
    },
    {
      "metadata": {
        "id": "KN-To68PxoEn",
        "colab_type": "code",
        "colab": {
          "autoexec": {
            "startup": false,
            "wait_interval": 0
          },
          "resources": {
            "http://localhost:8080/nbextensions/google.colab/files.js": {
              "data": "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",
              "ok": true,
              "headers": [
                [
                  "content-type",
                  "application/javascript"
                ]
              ],
              "status": 200,
              "status_text": ""
            }
          },
          "base_uri": "https://localhost:8080/",
          "height": 42
        },
        "outputId": "64a19f40-c40a-46c9-f2ad-d652452f0cdb",
        "executionInfo": {
          "status": "ok",
          "timestamp": 1531858231633,
          "user_tz": 240,
          "elapsed": 31874,
          "user": {
            "displayName": "Yiru Song",
            "photoUrl": "//lh5.googleusercontent.com/-AFWFHafTBPY/AAAAAAAAAAI/AAAAAAAAAoM/6oMcbQjw8qM/s50-c-k-no/photo.jpg",
            "userId": "102279239429715811765"
          }
        }
      },
      "cell_type": "code",
      "source": [
        "# use pandas to read csv dataset\n",
        "import pandas as pd\n",
        "import numpy as np\n",
        "# set globally the displayed maximum number of columns in the dataframe as 100\n",
        "pd.set_option('display.max_columns', 100)\n",
        "# import data\n",
        "import io\n",
        "from google.colab import files\n",
        "\n",
        "uploaded = files.upload()\n",
        "\n",
        "for fn in uploaded.keys():\n",
        "  print('User uploaded file \"{name}\" with length {length} bytes'.format(\n",
        "      name=fn, length=len(uploaded[fn])))\n"
      ],
      "execution_count": 26,
      "outputs": [
        {
          "output_type": "display_data",
          "data": {
            "text/plain": [
              "<IPython.core.display.HTML object>"
            ],
            "text/html": [
              "\n",
              "     <input type=\"file\" id=\"files-44fec86f-76c7-41c0-a1ea-7942c5940e5a\" name=\"files[]\" multiple disabled />\n",
              "     <output id=\"result-44fec86f-76c7-41c0-a1ea-7942c5940e5a\">\n",
              "      Upload widget is only available when the cell has been executed in the\n",
              "      current browser session. Please rerun this cell to enable.\n",
              "      </output>\n",
              "      <script src=\"/nbextensions/google.colab/files.js\"></script> "
            ]
          },
          "metadata": {
            "tags": []
          }
        }
      ]
    },
    {
      "metadata": {
        "id": "v-V0sA2ZygfN",
        "colab_type": "code",
        "colab": {
          "autoexec": {
            "startup": false,
            "wait_interval": 0
          }
        }
      },
      "cell_type": "code",
      "source": [
        "# read data\n",
        "matches = pd.read_csv(io.StringIO(uploaded['WorldCupMatches.csv'].decode('latin-1')))"
      ],
      "execution_count": 0,
      "outputs": []
    },
    {
      "metadata": {
        "id": "ktrU78hFxoEr",
        "colab_type": "text"
      },
      "cell_type": "markdown",
      "source": [
        "### Q1. Please check the duplicates and remove them. Then show the head of the dataframe"
      ]
    },
    {
      "metadata": {
        "id": "DPWTuR5bxoEt",
        "colab_type": "code",
        "colab": {
          "autoexec": {
            "startup": false,
            "wait_interval": 0
          },
          "base_uri": "https://localhost:8080/",
          "height": 34
        },
        "outputId": "01e920be-3ca0-4d49-d1c2-f6bd25fe74fe",
        "executionInfo": {
          "status": "ok",
          "timestamp": 1531857056184,
          "user_tz": 240,
          "elapsed": 339,
          "user": {
            "displayName": "Yiru Song",
            "photoUrl": "//lh5.googleusercontent.com/-AFWFHafTBPY/AAAAAAAAAAI/AAAAAAAAAoM/6oMcbQjw8qM/s50-c-k-no/photo.jpg",
            "userId": "102279239429715811765"
          }
        }
      },
      "cell_type": "code",
      "source": [
        "# Your code\n",
        "matches.shape"
      ],
      "execution_count": 3,
      "outputs": [
        {
          "output_type": "execute_result",
          "data": {
            "text/plain": [
              "(852, 20)"
            ]
          },
          "metadata": {
            "tags": []
          },
          "execution_count": 3
        }
      ]
    },
    {
      "metadata": {
        "id": "vCbMUWeDy7m3",
        "colab_type": "code",
        "colab": {
          "autoexec": {
            "startup": false,
            "wait_interval": 0
          },
          "base_uri": "https://localhost:8080/",
          "height": 34
        },
        "outputId": "5e020bbd-9368-43c9-92b8-2f1321e1d23e",
        "executionInfo": {
          "status": "ok",
          "timestamp": 1531857071721,
          "user_tz": 240,
          "elapsed": 341,
          "user": {
            "displayName": "Yiru Song",
            "photoUrl": "//lh5.googleusercontent.com/-AFWFHafTBPY/AAAAAAAAAAI/AAAAAAAAAoM/6oMcbQjw8qM/s50-c-k-no/photo.jpg",
            "userId": "102279239429715811765"
          }
        }
      },
      "cell_type": "code",
      "source": [
        "matches=matches.drop_duplicates()\n",
        "matches.shape"
      ],
      "execution_count": 4,
      "outputs": [
        {
          "output_type": "execute_result",
          "data": {
            "text/plain": [
              "(836, 20)"
            ]
          },
          "metadata": {
            "tags": []
          },
          "execution_count": 4
        }
      ]
    },
    {
      "metadata": {
        "id": "PaaFIQ_Cy_h_",
        "colab_type": "code",
        "colab": {
          "autoexec": {
            "startup": false,
            "wait_interval": 0
          },
          "base_uri": "https://localhost:8080/",
          "height": 434
        },
        "outputId": "a64aebec-3ccb-44cf-d121-e1d6788f845a",
        "executionInfo": {
          "status": "ok",
          "timestamp": 1531872681397,
          "user_tz": 240,
          "elapsed": 377,
          "user": {
            "displayName": "Yiru Song",
            "photoUrl": "//lh5.googleusercontent.com/-AFWFHafTBPY/AAAAAAAAAAI/AAAAAAAAAoM/6oMcbQjw8qM/s50-c-k-no/photo.jpg",
            "userId": "102279239429715811765"
          }
        }
      },
      "cell_type": "code",
      "source": [
        "matches.head(5)"
      ],
      "execution_count": 221,
      "outputs": [
        {
          "output_type": "execute_result",
          "data": {
            "text/html": [
              "<div>\n",
              "<style scoped>\n",
              "    .dataframe tbody tr th:only-of-type {\n",
              "        vertical-align: middle;\n",
              "    }\n",
              "\n",
              "    .dataframe tbody tr th {\n",
              "        vertical-align: top;\n",
              "    }\n",
              "\n",
              "    .dataframe thead th {\n",
              "        text-align: right;\n",
              "    }\n",
              "</style>\n",
              "<table border=\"1\" class=\"dataframe\">\n",
              "  <thead>\n",
              "    <tr style=\"text-align: right;\">\n",
              "      <th></th>\n",
              "      <th>Year</th>\n",
              "      <th>Datetime</th>\n",
              "      <th>Stage</th>\n",
              "      <th>Stadium</th>\n",
              "      <th>City</th>\n",
              "      <th>Home Team Name</th>\n",
              "      <th>Home Team Goals</th>\n",
              "      <th>Away Team Goals</th>\n",
              "      <th>Away Team Name</th>\n",
              "      <th>Win conditions</th>\n",
              "      <th>Attendance</th>\n",
              "      <th>Half-time Home Goals</th>\n",
              "      <th>Half-time Away Goals</th>\n",
              "      <th>Referee</th>\n",
              "      <th>Assistant 1</th>\n",
              "      <th>Assistant 2</th>\n",
              "      <th>RoundID</th>\n",
              "      <th>MatchID</th>\n",
              "      <th>Home Team Initials</th>\n",
              "      <th>Away Team Initials</th>\n",
              "      <th>goal_diff</th>\n",
              "    </tr>\n",
              "  </thead>\n",
              "  <tbody>\n",
              "    <tr>\n",
              "      <th>0</th>\n",
              "      <td>1930</td>\n",
              "      <td>13 Jul 1930 - 15:00</td>\n",
              "      <td>Group 1</td>\n",
              "      <td>Pocitos</td>\n",
              "      <td>Montevideo</td>\n",
              "      <td>France</td>\n",
              "      <td>4</td>\n",
              "      <td>1</td>\n",
              "      <td>Mexico</td>\n",
              "      <td></td>\n",
              "      <td>4444.0</td>\n",
              "      <td>3</td>\n",
              "      <td>0</td>\n",
              "      <td>LOMBARDI Domingo (URU)</td>\n",
              "      <td>CRISTOPHE Henry (BEL)</td>\n",
              "      <td>REGO Gilberto (BRA)</td>\n",
              "      <td>201</td>\n",
              "      <td>1096</td>\n",
              "      <td>FRA</td>\n",
              "      <td>MEX</td>\n",
              "      <td>3</td>\n",
              "    </tr>\n",
              "    <tr>\n",
              "      <th>1</th>\n",
              "      <td>1930</td>\n",
              "      <td>13 Jul 1930 - 15:00</td>\n",
              "      <td>Group 4</td>\n",
              "      <td>Parque Central</td>\n",
              "      <td>Montevideo</td>\n",
              "      <td>USA</td>\n",
              "      <td>3</td>\n",
              "      <td>0</td>\n",
              "      <td>Belgium</td>\n",
              "      <td></td>\n",
              "      <td>18346.0</td>\n",
              "      <td>2</td>\n",
              "      <td>0</td>\n",
              "      <td>MACIAS Jose (ARG)</td>\n",
              "      <td>MATEUCCI Francisco (URU)</td>\n",
              "      <td>WARNKEN Alberto (CHI)</td>\n",
              "      <td>201</td>\n",
              "      <td>1090</td>\n",
              "      <td>USA</td>\n",
              "      <td>BEL</td>\n",
              "      <td>3</td>\n",
              "    </tr>\n",
              "    <tr>\n",
              "      <th>2</th>\n",
              "      <td>1930</td>\n",
              "      <td>14 Jul 1930 - 12:45</td>\n",
              "      <td>Group 2</td>\n",
              "      <td>Parque Central</td>\n",
              "      <td>Montevideo</td>\n",
              "      <td>Yugoslavia</td>\n",
              "      <td>2</td>\n",
              "      <td>1</td>\n",
              "      <td>Brazil</td>\n",
              "      <td></td>\n",
              "      <td>24059.0</td>\n",
              "      <td>2</td>\n",
              "      <td>0</td>\n",
              "      <td>TEJADA Anibal (URU)</td>\n",
              "      <td>VALLARINO Ricardo (URU)</td>\n",
              "      <td>BALWAY Thomas (FRA)</td>\n",
              "      <td>201</td>\n",
              "      <td>1093</td>\n",
              "      <td>YUG</td>\n",
              "      <td>BRA</td>\n",
              "      <td>1</td>\n",
              "    </tr>\n",
              "    <tr>\n",
              "      <th>3</th>\n",
              "      <td>1930</td>\n",
              "      <td>14 Jul 1930 - 14:50</td>\n",
              "      <td>Group 3</td>\n",
              "      <td>Pocitos</td>\n",
              "      <td>Montevideo</td>\n",
              "      <td>Romania</td>\n",
              "      <td>3</td>\n",
              "      <td>1</td>\n",
              "      <td>Peru</td>\n",
              "      <td></td>\n",
              "      <td>2549.0</td>\n",
              "      <td>1</td>\n",
              "      <td>0</td>\n",
              "      <td>WARNKEN Alberto (CHI)</td>\n",
              "      <td>LANGENUS Jean (BEL)</td>\n",
              "      <td>MATEUCCI Francisco (URU)</td>\n",
              "      <td>201</td>\n",
              "      <td>1098</td>\n",
              "      <td>ROU</td>\n",
              "      <td>PER</td>\n",
              "      <td>2</td>\n",
              "    </tr>\n",
              "    <tr>\n",
              "      <th>4</th>\n",
              "      <td>1930</td>\n",
              "      <td>15 Jul 1930 - 16:00</td>\n",
              "      <td>Group 1</td>\n",
              "      <td>Parque Central</td>\n",
              "      <td>Montevideo</td>\n",
              "      <td>Argentina</td>\n",
              "      <td>1</td>\n",
              "      <td>0</td>\n",
              "      <td>France</td>\n",
              "      <td></td>\n",
              "      <td>23409.0</td>\n",
              "      <td>0</td>\n",
              "      <td>0</td>\n",
              "      <td>REGO Gilberto (BRA)</td>\n",
              "      <td>SAUCEDO Ulises (BOL)</td>\n",
              "      <td>RADULESCU Constantin (ROU)</td>\n",
              "      <td>201</td>\n",
              "      <td>1085</td>\n",
              "      <td>ARG</td>\n",
              "      <td>FRA</td>\n",
              "      <td>1</td>\n",
              "    </tr>\n",
              "  </tbody>\n",
              "</table>\n",
              "</div>"
            ],
            "text/plain": [
              "   Year              Datetime    Stage         Stadium         City  \\\n",
              "0  1930  13 Jul 1930 - 15:00   Group 1         Pocitos  Montevideo    \n",
              "1  1930  13 Jul 1930 - 15:00   Group 4  Parque Central  Montevideo    \n",
              "2  1930  14 Jul 1930 - 12:45   Group 2  Parque Central  Montevideo    \n",
              "3  1930  14 Jul 1930 - 14:50   Group 3         Pocitos  Montevideo    \n",
              "4  1930  15 Jul 1930 - 16:00   Group 1  Parque Central  Montevideo    \n",
              "\n",
              "  Home Team Name  Home Team Goals  Away Team Goals Away Team Name  \\\n",
              "0         France                4                1         Mexico   \n",
              "1            USA                3                0        Belgium   \n",
              "2     Yugoslavia                2                1         Brazil   \n",
              "3        Romania                3                1           Peru   \n",
              "4      Argentina                1                0         France   \n",
              "\n",
              "  Win conditions  Attendance  Half-time Home Goals  Half-time Away Goals  \\\n",
              "0                     4444.0                     3                     0   \n",
              "1                    18346.0                     2                     0   \n",
              "2                    24059.0                     2                     0   \n",
              "3                     2549.0                     1                     0   \n",
              "4                    23409.0                     0                     0   \n",
              "\n",
              "                  Referee               Assistant 1  \\\n",
              "0  LOMBARDI Domingo (URU)     CRISTOPHE Henry (BEL)   \n",
              "1       MACIAS Jose (ARG)  MATEUCCI Francisco (URU)   \n",
              "2     TEJADA Anibal (URU)   VALLARINO Ricardo (URU)   \n",
              "3   WARNKEN Alberto (CHI)       LANGENUS Jean (BEL)   \n",
              "4     REGO Gilberto (BRA)      SAUCEDO Ulises (BOL)   \n",
              "\n",
              "                  Assistant 2  RoundID  MatchID Home Team Initials  \\\n",
              "0         REGO Gilberto (BRA)      201     1096                FRA   \n",
              "1       WARNKEN Alberto (CHI)      201     1090                USA   \n",
              "2         BALWAY Thomas (FRA)      201     1093                YUG   \n",
              "3    MATEUCCI Francisco (URU)      201     1098                ROU   \n",
              "4  RADULESCU Constantin (ROU)      201     1085                ARG   \n",
              "\n",
              "  Away Team Initials  goal_diff  \n",
              "0                MEX          3  \n",
              "1                BEL          3  \n",
              "2                BRA          1  \n",
              "3                PER          2  \n",
              "4                FRA          1  "
            ]
          },
          "metadata": {
            "tags": []
          },
          "execution_count": 221
        }
      ]
    },
    {
      "metadata": {
        "id": "pIvVEEmjxoEw",
        "colab_type": "text"
      },
      "cell_type": "markdown",
      "source": [
        "### Q2. How many columns and rows in the dataset, after dropping the duplicates? "
      ]
    },
    {
      "metadata": {
        "id": "zX0SCN6TxoEw",
        "colab_type": "code",
        "colab": {
          "autoexec": {
            "startup": false,
            "wait_interval": 0
          },
          "base_uri": "https://localhost:8080/",
          "height": 34
        },
        "outputId": "f2996d4f-60f9-4e58-b508-53702e9f0c73",
        "executionInfo": {
          "status": "ok",
          "timestamp": 1531857106131,
          "user_tz": 240,
          "elapsed": 317,
          "user": {
            "displayName": "Yiru Song",
            "photoUrl": "//lh5.googleusercontent.com/-AFWFHafTBPY/AAAAAAAAAAI/AAAAAAAAAoM/6oMcbQjw8qM/s50-c-k-no/photo.jpg",
            "userId": "102279239429715811765"
          }
        }
      },
      "cell_type": "code",
      "source": [
        "# Your code\n",
        "matches.shape"
      ],
      "execution_count": 7,
      "outputs": [
        {
          "output_type": "execute_result",
          "data": {
            "text/plain": [
              "(836, 20)"
            ]
          },
          "metadata": {
            "tags": []
          },
          "execution_count": 7
        }
      ]
    },
    {
      "metadata": {
        "id": "AlbL8CSczRwz",
        "colab_type": "text"
      },
      "cell_type": "markdown",
      "source": [
        "There are 20 columns and 836 rows in the dataset after dropping the duplicates."
      ]
    },
    {
      "metadata": {
        "id": "4mAz76MuxoEz",
        "colab_type": "text"
      },
      "cell_type": "markdown",
      "source": [
        "### Q3. So far, how many World Cup sessions have been held, excluding 2018 FIFA World Cup Russia? Which years have missed the world cup? Why?"
      ]
    },
    {
      "metadata": {
        "id": "cXBYBop4xoE0",
        "colab_type": "code",
        "colab": {
          "autoexec": {
            "startup": false,
            "wait_interval": 0
          },
          "base_uri": "https://localhost:8080/",
          "height": 34
        },
        "outputId": "95322203-4573-4f6b-944f-9bc4408798fc",
        "executionInfo": {
          "status": "ok",
          "timestamp": 1531857713153,
          "user_tz": 240,
          "elapsed": 325,
          "user": {
            "displayName": "Yiru Song",
            "photoUrl": "//lh5.googleusercontent.com/-AFWFHafTBPY/AAAAAAAAAAI/AAAAAAAAAoM/6oMcbQjw8qM/s50-c-k-no/photo.jpg",
            "userId": "102279239429715811765"
          }
        }
      },
      "cell_type": "code",
      "source": [
        "# Your code\n",
        "\n",
        "nsessions=0\n",
        "if (2018 not in matches['Year']):\n",
        "  nsessions=matches['Year'].nunique()\n",
        "else:\n",
        "  nsessions=matches['Year'].nunique()-1\n",
        "print(nsessions)"
      ],
      "execution_count": 19,
      "outputs": [
        {
          "output_type": "stream",
          "text": [
            "20\n"
          ],
          "name": "stdout"
        }
      ]
    },
    {
      "metadata": {
        "id": "-q0M3ehS1cCg",
        "colab_type": "code",
        "colab": {
          "autoexec": {
            "startup": false,
            "wait_interval": 0
          },
          "base_uri": "https://localhost:8080/",
          "height": 34
        },
        "outputId": "74ef785f-d060-4690-a397-11afd7b5d6ca",
        "executionInfo": {
          "status": "ok",
          "timestamp": 1531859485301,
          "user_tz": 240,
          "elapsed": 323,
          "user": {
            "displayName": "Yiru Song",
            "photoUrl": "//lh5.googleusercontent.com/-AFWFHafTBPY/AAAAAAAAAAI/AAAAAAAAAoM/6oMcbQjw8qM/s50-c-k-no/photo.jpg",
            "userId": "102279239429715811765"
          }
        }
      },
      "cell_type": "code",
      "source": [
        "missing=[]\n",
        "sessions=matches['Year'].unique()\n",
        "for i in range(19):\n",
        "  if (sessions[i+1]-sessions[i]>4):\n",
        "    n=(sessions[i+1]-sessions[i])/4\n",
        "    for k in range(1,n):\n",
        "      missing.append(sessions[i]+4*k)\n",
        "missing"
      ],
      "execution_count": 82,
      "outputs": [
        {
          "output_type": "execute_result",
          "data": {
            "text/plain": [
              "[1942, 1946]"
            ]
          },
          "metadata": {
            "tags": []
          },
          "execution_count": 82
        }
      ]
    },
    {
      "metadata": {
        "id": "0IAlKHCX-9Yg",
        "colab_type": "code",
        "colab": {
          "autoexec": {
            "startup": false,
            "wait_interval": 0
          },
          "base_uri": "https://localhost:8080/",
          "height": 50
        },
        "outputId": "870b1aba-a672-4196-9286-b24b8dedeffc",
        "executionInfo": {
          "status": "ok",
          "timestamp": 1531860216687,
          "user_tz": 240,
          "elapsed": 400,
          "user": {
            "displayName": "Yiru Song",
            "photoUrl": "//lh5.googleusercontent.com/-AFWFHafTBPY/AAAAAAAAAAI/AAAAAAAAAoM/6oMcbQjw8qM/s50-c-k-no/photo.jpg",
            "userId": "102279239429715811765"
          }
        }
      },
      "cell_type": "code",
      "source": [
        "sessions"
      ],
      "execution_count": 91,
      "outputs": [
        {
          "output_type": "execute_result",
          "data": {
            "text/plain": [
              "array([1930, 1934, 1938, 1950, 1954, 1958, 1962, 1966, 1970, 1974, 1978,\n",
              "       1982, 1986, 1990, 1994, 1998, 2002, 2006, 2010, 2014])"
            ]
          },
          "metadata": {
            "tags": []
          },
          "execution_count": 91
        }
      ]
    },
    {
      "metadata": {
        "id": "Tjfzt_A9xoE4",
        "colab_type": "text"
      },
      "cell_type": "markdown",
      "source": [
        "*Your explanation:*\n",
        "20 sessions have been hold each 4 years since 1930, with the excepitons in 1942 and 1946. Both sessions were cancelled due to world war II."
      ]
    },
    {
      "metadata": {
        "id": "bvWAParBxoE4",
        "colab_type": "text"
      },
      "cell_type": "markdown",
      "source": [
        "### Q4. List the (country, # of champions) pairs, sorting by \"# of champions\" in descending way."
      ]
    },
    {
      "metadata": {
        "id": "Oxq0ngT-xoE5",
        "colab_type": "text"
      },
      "cell_type": "markdown",
      "source": [
        "Notes:\n",
        "* Your list should be like this [('Brazil', 5), ('Italy',4), ...], which means that Brazil won five times World Cup champions and Italy won four times...\n",
        "* List only countries that have won the championship.\n",
        "* Claim anything you find interesting or strange, comparing with the true domain knowledge"
      ]
    },
    {
      "metadata": {
        "id": "ts2iqyoNxoE8",
        "colab_type": "code",
        "colab": {
          "autoexec": {
            "startup": false,
            "wait_interval": 0
          },
          "base_uri": "https://localhost:8080/",
          "height": 610
        },
        "outputId": "64b6f884-a490-4471-d5f5-bc0ffd0e3ba6",
        "executionInfo": {
          "status": "ok",
          "timestamp": 1531864123446,
          "user_tz": 240,
          "elapsed": 484,
          "user": {
            "displayName": "Yiru Song",
            "photoUrl": "//lh5.googleusercontent.com/-AFWFHafTBPY/AAAAAAAAAAI/AAAAAAAAAoM/6oMcbQjw8qM/s50-c-k-no/photo.jpg",
            "userId": "102279239429715811765"
          }
        }
      },
      "cell_type": "code",
      "source": [
        "from collections import Counter\n",
        "\n",
        "# Your code\n",
        "final=matches[['Home Team Name','Home Team Goals','Away Team Goals','Away Team Name','Win conditions']][matches.Stage=='Final']\n",
        "final.shape\n",
        "#missing 1950 final round data\n",
        "final['winner'] = np.where(final['Home Team Goals'] > final['Away Team Goals'],final['Home Team Name'], (np.where(final['Home Team Goals'] < final['Away Team Goals'], final['Away Team Name'], final['Win conditions'].str.split().str[0])))                         \n",
        "final"
      ],
      "execution_count": 128,
      "outputs": [
        {
          "output_type": "execute_result",
          "data": {
            "text/html": [
              "<div>\n",
              "<style scoped>\n",
              "    .dataframe tbody tr th:only-of-type {\n",
              "        vertical-align: middle;\n",
              "    }\n",
              "\n",
              "    .dataframe tbody tr th {\n",
              "        vertical-align: top;\n",
              "    }\n",
              "\n",
              "    .dataframe thead th {\n",
              "        text-align: right;\n",
              "    }\n",
              "</style>\n",
              "<table border=\"1\" class=\"dataframe\">\n",
              "  <thead>\n",
              "    <tr style=\"text-align: right;\">\n",
              "      <th></th>\n",
              "      <th>Home Team Name</th>\n",
              "      <th>Home Team Goals</th>\n",
              "      <th>Away Team Goals</th>\n",
              "      <th>Away Team Name</th>\n",
              "      <th>Win conditions</th>\n",
              "      <th>winner</th>\n",
              "    </tr>\n",
              "  </thead>\n",
              "  <tbody>\n",
              "    <tr>\n",
              "      <th>17</th>\n",
              "      <td>Uruguay</td>\n",
              "      <td>4</td>\n",
              "      <td>2</td>\n",
              "      <td>Argentina</td>\n",
              "      <td></td>\n",
              "      <td>Uruguay</td>\n",
              "    </tr>\n",
              "    <tr>\n",
              "      <th>34</th>\n",
              "      <td>Italy</td>\n",
              "      <td>2</td>\n",
              "      <td>1</td>\n",
              "      <td>Czechoslovakia</td>\n",
              "      <td>Italy win after extra time</td>\n",
              "      <td>Italy</td>\n",
              "    </tr>\n",
              "    <tr>\n",
              "      <th>52</th>\n",
              "      <td>Italy</td>\n",
              "      <td>4</td>\n",
              "      <td>2</td>\n",
              "      <td>Hungary</td>\n",
              "      <td></td>\n",
              "      <td>Italy</td>\n",
              "    </tr>\n",
              "    <tr>\n",
              "      <th>100</th>\n",
              "      <td>Germany FR</td>\n",
              "      <td>3</td>\n",
              "      <td>2</td>\n",
              "      <td>Hungary</td>\n",
              "      <td></td>\n",
              "      <td>Germany FR</td>\n",
              "    </tr>\n",
              "    <tr>\n",
              "      <th>135</th>\n",
              "      <td>Brazil</td>\n",
              "      <td>5</td>\n",
              "      <td>2</td>\n",
              "      <td>Sweden</td>\n",
              "      <td></td>\n",
              "      <td>Brazil</td>\n",
              "    </tr>\n",
              "    <tr>\n",
              "      <th>167</th>\n",
              "      <td>Brazil</td>\n",
              "      <td>3</td>\n",
              "      <td>1</td>\n",
              "      <td>Czechoslovakia</td>\n",
              "      <td></td>\n",
              "      <td>Brazil</td>\n",
              "    </tr>\n",
              "    <tr>\n",
              "      <th>199</th>\n",
              "      <td>England</td>\n",
              "      <td>4</td>\n",
              "      <td>2</td>\n",
              "      <td>Germany FR</td>\n",
              "      <td>England win after extra time</td>\n",
              "      <td>England</td>\n",
              "    </tr>\n",
              "    <tr>\n",
              "      <th>231</th>\n",
              "      <td>Brazil</td>\n",
              "      <td>4</td>\n",
              "      <td>1</td>\n",
              "      <td>Italy</td>\n",
              "      <td></td>\n",
              "      <td>Brazil</td>\n",
              "    </tr>\n",
              "    <tr>\n",
              "      <th>269</th>\n",
              "      <td>Netherlands</td>\n",
              "      <td>1</td>\n",
              "      <td>2</td>\n",
              "      <td>Germany FR</td>\n",
              "      <td></td>\n",
              "      <td>Germany FR</td>\n",
              "    </tr>\n",
              "    <tr>\n",
              "      <th>307</th>\n",
              "      <td>Argentina</td>\n",
              "      <td>3</td>\n",
              "      <td>1</td>\n",
              "      <td>Netherlands</td>\n",
              "      <td>Argentina win after extra time</td>\n",
              "      <td>Argentina</td>\n",
              "    </tr>\n",
              "    <tr>\n",
              "      <th>359</th>\n",
              "      <td>Italy</td>\n",
              "      <td>3</td>\n",
              "      <td>1</td>\n",
              "      <td>Germany FR</td>\n",
              "      <td></td>\n",
              "      <td>Italy</td>\n",
              "    </tr>\n",
              "    <tr>\n",
              "      <th>411</th>\n",
              "      <td>Argentina</td>\n",
              "      <td>3</td>\n",
              "      <td>2</td>\n",
              "      <td>Germany FR</td>\n",
              "      <td></td>\n",
              "      <td>Argentina</td>\n",
              "    </tr>\n",
              "    <tr>\n",
              "      <th>463</th>\n",
              "      <td>Germany FR</td>\n",
              "      <td>1</td>\n",
              "      <td>0</td>\n",
              "      <td>Argentina</td>\n",
              "      <td></td>\n",
              "      <td>Germany FR</td>\n",
              "    </tr>\n",
              "    <tr>\n",
              "      <th>515</th>\n",
              "      <td>Brazil</td>\n",
              "      <td>0</td>\n",
              "      <td>0</td>\n",
              "      <td>Italy</td>\n",
              "      <td>Brazil win on penalties (3 - 2)</td>\n",
              "      <td>Brazil</td>\n",
              "    </tr>\n",
              "    <tr>\n",
              "      <th>579</th>\n",
              "      <td>Brazil</td>\n",
              "      <td>0</td>\n",
              "      <td>3</td>\n",
              "      <td>France</td>\n",
              "      <td></td>\n",
              "      <td>France</td>\n",
              "    </tr>\n",
              "    <tr>\n",
              "      <th>643</th>\n",
              "      <td>Germany</td>\n",
              "      <td>0</td>\n",
              "      <td>2</td>\n",
              "      <td>Brazil</td>\n",
              "      <td></td>\n",
              "      <td>Brazil</td>\n",
              "    </tr>\n",
              "    <tr>\n",
              "      <th>707</th>\n",
              "      <td>Italy</td>\n",
              "      <td>1</td>\n",
              "      <td>1</td>\n",
              "      <td>France</td>\n",
              "      <td>Italy win on penalties (5 - 3)</td>\n",
              "      <td>Italy</td>\n",
              "    </tr>\n",
              "    <tr>\n",
              "      <th>771</th>\n",
              "      <td>Netherlands</td>\n",
              "      <td>0</td>\n",
              "      <td>1</td>\n",
              "      <td>Spain</td>\n",
              "      <td>Spain win after extra time</td>\n",
              "      <td>Spain</td>\n",
              "    </tr>\n",
              "    <tr>\n",
              "      <th>828</th>\n",
              "      <td>Germany</td>\n",
              "      <td>1</td>\n",
              "      <td>0</td>\n",
              "      <td>Argentina</td>\n",
              "      <td>Germany win after extra time</td>\n",
              "      <td>Germany</td>\n",
              "    </tr>\n",
              "  </tbody>\n",
              "</table>\n",
              "</div>"
            ],
            "text/plain": [
              "    Home Team Name  Home Team Goals  Away Team Goals  Away Team Name  \\\n",
              "17         Uruguay                4                2       Argentina   \n",
              "34           Italy                2                1  Czechoslovakia   \n",
              "52           Italy                4                2         Hungary   \n",
              "100     Germany FR                3                2         Hungary   \n",
              "135         Brazil                5                2          Sweden   \n",
              "167         Brazil                3                1  Czechoslovakia   \n",
              "199        England                4                2      Germany FR   \n",
              "231         Brazil                4                1           Italy   \n",
              "269    Netherlands                1                2      Germany FR   \n",
              "307      Argentina                3                1     Netherlands   \n",
              "359          Italy                3                1      Germany FR   \n",
              "411      Argentina                3                2      Germany FR   \n",
              "463     Germany FR                1                0       Argentina   \n",
              "515         Brazil                0                0           Italy   \n",
              "579         Brazil                0                3          France   \n",
              "643        Germany                0                2          Brazil   \n",
              "707          Italy                1                1          France   \n",
              "771    Netherlands                0                1           Spain   \n",
              "828        Germany                1                0       Argentina   \n",
              "\n",
              "                       Win conditions      winner  \n",
              "17                                        Uruguay  \n",
              "34        Italy win after extra time        Italy  \n",
              "52                                          Italy  \n",
              "100                                    Germany FR  \n",
              "135                                        Brazil  \n",
              "167                                        Brazil  \n",
              "199     England win after extra time      England  \n",
              "231                                        Brazil  \n",
              "269                                    Germany FR  \n",
              "307   Argentina win after extra time    Argentina  \n",
              "359                                         Italy  \n",
              "411                                     Argentina  \n",
              "463                                    Germany FR  \n",
              "515  Brazil win on penalties (3 - 2)       Brazil  \n",
              "579                                        France  \n",
              "643                                        Brazil  \n",
              "707   Italy win on penalties (5 - 3)        Italy  \n",
              "771       Spain win after extra time        Spain  \n",
              "828     Germany win after extra time      Germany  "
            ]
          },
          "metadata": {
            "tags": []
          },
          "execution_count": 128
        }
      ]
    },
    {
      "metadata": {
        "id": "ezwETULmNqvo",
        "colab_type": "code",
        "colab": {
          "autoexec": {
            "startup": false,
            "wait_interval": 0
          },
          "base_uri": "https://localhost:8080/",
          "height": 168
        },
        "outputId": "b6d0870f-050d-4f9b-e9ef-b2340fb61e94",
        "executionInfo": {
          "status": "ok",
          "timestamp": 1531864373580,
          "user_tz": 240,
          "elapsed": 310,
          "user": {
            "displayName": "Yiru Song",
            "photoUrl": "//lh5.googleusercontent.com/-AFWFHafTBPY/AAAAAAAAAAI/AAAAAAAAAoM/6oMcbQjw8qM/s50-c-k-no/photo.jpg",
            "userId": "102279239429715811765"
          }
        }
      },
      "cell_type": "code",
      "source": [
        "final['freq'] = final.groupby('winner')['winner'].transform('count')\n",
        "subset = final[['winner','freq']]\n",
        "results = sorted(list(set([tuple(x) for x in subset.values])), key=lambda x: x[1],reverse=True) \n",
        "results"
      ],
      "execution_count": 134,
      "outputs": [
        {
          "output_type": "execute_result",
          "data": {
            "text/plain": [
              "[('Brazil', 5),\n",
              " ('Italy', 4),\n",
              " ('Germany FR', 3),\n",
              " ('Argentina', 2),\n",
              " ('Spain', 1),\n",
              " ('Uruguay', 1),\n",
              " ('Germany', 1),\n",
              " ('France', 1),\n",
              " ('England', 1)]"
            ]
          },
          "metadata": {
            "tags": []
          },
          "execution_count": 134
        }
      ]
    },
    {
      "metadata": {
        "id": "xp3BoPzjxoE_",
        "colab_type": "text"
      },
      "cell_type": "markdown",
      "source": [
        "*Your explanation:*\n",
        "Matches before 1968 Germany was referred to as Germany FR and after simply Germany. In addition, the dataset does not contain match records after group stage for the year 1950. Uruguay was the champion that year.  "
      ]
    },
    {
      "metadata": {
        "id": "ramVBWmkxoFA",
        "colab_type": "text"
      },
      "cell_type": "markdown",
      "source": [
        "### Q5. Plot the change of average number of attendance for each match in each session of world cup, along with the Year"
      ]
    },
    {
      "metadata": {
        "id": "tcPeX_8gxoFB",
        "colab_type": "text"
      },
      "cell_type": "markdown",
      "source": [
        "Notes: \n",
        "* Year in x-axis and average number of attendance in y-axis\n",
        "* The average number of attendance is equal to the total number of attendance divided by the total number of matches\n",
        "* Draw bar plot\n",
        "* Don't forget the title, xlabel and ylabel!\n",
        "* Find anything interesting in the plot and give explanations"
      ]
    },
    {
      "metadata": {
        "id": "CUdfF-aBxoFC",
        "colab_type": "code",
        "colab": {
          "autoexec": {
            "startup": false,
            "wait_interval": 0
          },
          "base_uri": "https://localhost:8080/",
          "height": 420
        },
        "outputId": "f2bbdfaf-31f3-4f2c-f0e9-a922fce2f541",
        "executionInfo": {
          "status": "ok",
          "timestamp": 1531868944178,
          "user_tz": 240,
          "elapsed": 482,
          "user": {
            "displayName": "Yiru Song",
            "photoUrl": "//lh5.googleusercontent.com/-AFWFHafTBPY/AAAAAAAAAAI/AAAAAAAAAoM/6oMcbQjw8qM/s50-c-k-no/photo.jpg",
            "userId": "102279239429715811765"
          }
        }
      },
      "cell_type": "code",
      "source": [
        "import matplotlib.pyplot as plt\n",
        "%matplotlib inline\n",
        "plt.rcParams['figure.figsize'] = (12,6)\n",
        "year=matches['Year'].unique()\n",
        "# Your code\n",
        "total_attendance=matches.groupby('Year')['Attendance'].sum()\n",
        "total_matches=matches.groupby('Year')['MatchID'].count()\n",
        "average=total_attendance/total_matches\n",
        "average\n",
        "plt.bar(year,average)\n",
        "plt.xticks(year)\n",
        "plt.xlabel('Year')\n",
        "plt.ylabel('Averge Match Attendance')\n",
        "plt.title('Average Match Attendance By Year')"
      ],
      "execution_count": 196,
      "outputs": [
        {
          "output_type": "execute_result",
          "data": {
            "text/plain": [
              "Text(0.5,1,u'Average Match Attendance By Year')"
            ]
          },
          "metadata": {
            "tags": []
          },
          "execution_count": 196
        },
        {
          "output_type": "display_data",
          "data": {
            "image/png": "[encoded data removed]",
            "text/plain": [
              "<matplotlib.figure.Figure at 0x7ff8efd9b690>"
            ]
          },
          "metadata": {
            "tags": []
          }
        }
      ]
    },
    {
      "metadata": {
        "id": "BdfvhAVXxoFG",
        "colab_type": "text"
      },
      "cell_type": "markdown",
      "source": [
        "*Your explanation:*\n",
        "1994 has an unusually high average attendance. It was held in the US and with the aid of high-capacity stadia in the United States, it broke the World Cup average attendance record with nearly 69,000 spectators per game"
      ]
    },
    {
      "metadata": {
        "id": "aGdFI7lWxoFH",
        "colab_type": "text"
      },
      "cell_type": "markdown",
      "source": [
        "### Q6. Plot the change of total number of attended teams for each session of world cup, along with Year"
      ]
    },
    {
      "metadata": {
        "id": "1s9OzX2vxoFI",
        "colab_type": "text"
      },
      "cell_type": "markdown",
      "source": [
        "Notes:\n",
        "* Year in x-axis and total number of teams in y-axis\n",
        "* Including title, xlabel and ylabel\n",
        "* Draw bar plot\n",
        "* When calculating the total number of teams, use \"Initals\" instead of \"Name\"\n",
        "* Explain anything you find interesting"
      ]
    },
    {
      "metadata": {
        "id": "hMPAfYzKxoFK",
        "colab_type": "code",
        "colab": {
          "autoexec": {
            "startup": false,
            "wait_interval": 0
          },
          "base_uri": "https://localhost:8080/",
          "height": 420
        },
        "outputId": "416c7636-e289-4970-bb2a-2775af0896ee",
        "executionInfo": {
          "status": "ok",
          "timestamp": 1531870048618,
          "user_tz": 240,
          "elapsed": 493,
          "user": {
            "displayName": "Yiru Song",
            "photoUrl": "//lh5.googleusercontent.com/-AFWFHafTBPY/AAAAAAAAAAI/AAAAAAAAAoM/6oMcbQjw8qM/s50-c-k-no/photo.jpg",
            "userId": "102279239429715811765"
          }
        }
      },
      "cell_type": "code",
      "source": [
        "# Your code\n",
        "x=[]\n",
        "y=[]\n",
        "for i in year:\n",
        "  x.append(i)\n",
        "  data=matches.loc[matches['Year'] == i]\n",
        "  y.append(data.groupby(['Home Team Initials', 'Away Team Initials']).ngroups)\n",
        "plt.bar(x,y)\n",
        "plt.xticks(x)\n",
        "plt.xlabel('Year')\n",
        "plt.ylabel('Total Attended Teams')\n",
        "plt.title('Total number of attended team By Year')"
      ],
      "execution_count": 220,
      "outputs": [
        {
          "output_type": "execute_result",
          "data": {
            "text/plain": [
              "Text(0.5,1,u'Total number of attended team By Year')"
            ]
          },
          "metadata": {
            "tags": []
          },
          "execution_count": 220
        },
        {
          "output_type": "display_data",
          "data": {
            "image/png": "[encoded data removed]",
            "text/plain": [
              "<matplotlib.figure.Figure at 0x7ff8ee72e610>"
            ]
          },
          "metadata": {
            "tags": []
          }
        }
      ]
    },
    {
      "metadata": {
        "id": "kejaGBZBxoFO",
        "colab_type": "text"
      },
      "cell_type": "markdown",
      "source": [
        "*Your explanation:*\n",
        "Number of participating teams increase in stages. There are major pumps in team numbers in 1958,1982,1998, where number of teams maintain at a stable level for a decade or so following these years, until the next pump year comes."
      ]
    },
    {
      "metadata": {
        "id": "61sBD9MCxoFP",
        "colab_type": "text"
      },
      "cell_type": "markdown",
      "source": [
        "### Q7. What is the distribution of the goal difference?"
      ]
    },
    {
      "metadata": {
        "id": "RVHDCf8gxoFP",
        "colab_type": "text"
      },
      "cell_type": "markdown",
      "source": [
        "Notes:\n",
        "* \"Goal difference\" is the difference between \"Home Team Goals\" and \"Away Team Goals\"\n",
        "* Use histogram plot, with bin=100\n",
        "* Summary the necessary statistics\n",
        "* Explain as much as you can"
      ]
    },
    {
      "metadata": {
        "id": "umdNQQCcxoFR",
        "colab_type": "code",
        "colab": {
          "autoexec": {
            "startup": false,
            "wait_interval": 0
          },
          "base_uri": "https://localhost:8080/",
          "height": 760
        },
        "outputId": "09e8fdb2-0654-414f-fd30-8d0c31f9d16d",
        "executionInfo": {
          "status": "ok",
          "timestamp": 1531867769426,
          "user_tz": 240,
          "elapsed": 555,
          "user": {
            "displayName": "Yiru Song",
            "photoUrl": "//lh5.googleusercontent.com/-AFWFHafTBPY/AAAAAAAAAAI/AAAAAAAAAoM/6oMcbQjw8qM/s50-c-k-no/photo.jpg",
            "userId": "102279239429715811765"
          }
        }
      },
      "cell_type": "code",
      "source": [
        "# Your code\n",
        "matches['goal_diff']=matches['Home Team Goals']-matches['Away Team Goals']\n",
        "plt.hist(matches['goal_diff'], bins=100)"
      ],
      "execution_count": 184,
      "outputs": [
        {
          "output_type": "execute_result",
          "data": {
            "text/plain": [
              "(array([  1.,   0.,   0.,   0.,   0.,   0.,   1.,   0.,   0.,   0.,   0.,\n",
              "          0.,   0.,   0.,   0.,   0.,   0.,   0.,   7.,   0.,   0.,   0.,\n",
              "          0.,   0.,   0.,  25.,   0.,   0.,   0.,   0.,   0.,  45.,   0.,\n",
              "          0.,   0.,   0.,   0.,  92.,   0.,   0.,   0.,   0.,   0., 186.,\n",
              "          0.,   0.,   0.,   0.,   0.,   0., 234.,   0.,   0.,   0.,   0.,\n",
              "          0., 125.,   0.,   0.,   0.,   0.,   0.,  62.,   0.,   0.,   0.,\n",
              "          0.,   0.,  25.,   0.,   0.,   0.,   0.,   0.,   0.,  17.,   0.,\n",
              "          0.,   0.,   0.,   0.,   7.,   0.,   0.,   0.,   0.,   0.,   3.,\n",
              "          0.,   0.,   0.,   0.,   0.,   3.,   0.,   0.,   0.,   0.,   0.,\n",
              "          3.]),\n",
              " array([-7.  , -6.84, -6.68, -6.52, -6.36, -6.2 , -6.04, -5.88, -5.72,\n",
              "        -5.56, -5.4 , -5.24, -5.08, -4.92, -4.76, -4.6 , -4.44, -4.28,\n",
              "        -4.12, -3.96, -3.8 , -3.64, -3.48, -3.32, -3.16, -3.  , -2.84,\n",
              "        -2.68, -2.52, -2.36, -2.2 , -2.04, -1.88, -1.72, -1.56, -1.4 ,\n",
              "        -1.24, -1.08, -0.92, -0.76, -0.6 , -0.44, -0.28, -0.12,  0.04,\n",
              "         0.2 ,  0.36,  0.52,  0.68,  0.84,  1.  ,  1.16,  1.32,  1.48,\n",
              "         1.64,  1.8 ,  1.96,  2.12,  2.28,  2.44,  2.6 ,  2.76,  2.92,\n",
              "         3.08,  3.24,  3.4 ,  3.56,  3.72,  3.88,  4.04,  4.2 ,  4.36,\n",
              "         4.52,  4.68,  4.84,  5.  ,  5.16,  5.32,  5.48,  5.64,  5.8 ,\n",
              "         5.96,  6.12,  6.28,  6.44,  6.6 ,  6.76,  6.92,  7.08,  7.24,\n",
              "         7.4 ,  7.56,  7.72,  7.88,  8.04,  8.2 ,  8.36,  8.52,  8.68,\n",
              "         8.84,  9.  ]),\n",
              " <a list of 100 Patch objects>)"
            ]
          },
          "metadata": {
            "tags": []
          },
          "execution_count": 184
        },
        {
          "output_type": "display_data",
          "data": {
            "image/png": "[encoded data removed]",
            "text/plain": [
              "<matplotlib.figure.Figure at 0x7ff8f1824e90>"
            ]
          },
          "metadata": {
            "tags": []
          }
        }
      ]
    },
    {
      "metadata": {
        "id": "Di5OZEthxoFU",
        "colab_type": "text"
      },
      "cell_type": "markdown",
      "source": [
        "*Your explanation:*\n",
        "Goal difference has an approximately normal distribution, with median difference around 1. The concentration around 0/1 score differences makes sense, since vast goal differences is rarely the case for soccer games. "
      ]
    },
    {
      "metadata": {
        "id": "im2pcuanxoFV",
        "colab_type": "text"
      },
      "cell_type": "markdown",
      "source": [
        "### Q8. Is the average goal difference statistically equal to 0? How would you test it?"
      ]
    },
    {
      "metadata": {
        "id": "7RHrIozlxoFX",
        "colab_type": "text"
      },
      "cell_type": "markdown",
      "source": [
        "* Please use one-sample t-test\n",
        "* Calculate the p-value"
      ]
    },
    {
      "metadata": {
        "id": "v-DCyhatxoFY",
        "colab_type": "code",
        "colab": {
          "autoexec": {
            "startup": false,
            "wait_interval": 0
          },
          "base_uri": "https://localhost:8080/",
          "height": 185
        },
        "outputId": "12ff0007-08b0-4360-cf44-3d953394a17f",
        "executionInfo": {
          "status": "ok",
          "timestamp": 1531868189758,
          "user_tz": 240,
          "elapsed": 2106,
          "user": {
            "displayName": "Yiru Song",
            "photoUrl": "//lh5.googleusercontent.com/-AFWFHafTBPY/AAAAAAAAAAI/AAAAAAAAAoM/6oMcbQjw8qM/s50-c-k-no/photo.jpg",
            "userId": "102279239429715811765"
          }
        }
      },
      "cell_type": "code",
      "source": [
        "!pip install plotly\n",
        "import plotly.plotly as py\n",
        "from scipy.stats import ttest_1samp\n",
        "from plotly.tools import FigureFactory as FF\n",
        "# Your code\n",
        "true_mu = 0\n",
        "\n",
        "onesample_results = ttest_1samp(matches['goal_diff'], true_mu)\n",
        "\n",
        "matrix_onesample = [\n",
        "    ['', 'Test Statistic', 'p-value'],\n",
        "    ['Sample Data', onesample_results[0], onesample_results[1]]\n",
        "]\n",
        "\n",
        "matrix_onesample"
      ],
      "execution_count": 193,
      "outputs": [
        {
          "output_type": "stream",
          "text": [
            "Requirement already satisfied: plotly in /usr/local/lib/python2.7/dist-packages (1.12.12)\r\n",
            "Requirement already satisfied: requests in /usr/local/lib/python2.7/dist-packages (from plotly) (2.18.4)\r\n",
            "Requirement already satisfied: six in /usr/local/lib/python2.7/dist-packages (from plotly) (1.11.0)\r\n",
            "Requirement already satisfied: pytz in /usr/local/lib/python2.7/dist-packages (from plotly) (2018.5)\n",
            "Requirement already satisfied: idna<2.7,>=2.5 in /usr/local/lib/python2.7/dist-packages (from requests->plotly) (2.6)\n",
            "Requirement already satisfied: urllib3<1.23,>=1.21.1 in /usr/local/lib/python2.7/dist-packages (from requests->plotly) (1.22)\n",
            "Requirement already satisfied: certifi>=2017.4.17 in /usr/local/lib/python2.7/dist-packages (from requests->plotly) (2018.4.16)\n",
            "Requirement already satisfied: chardet<3.1.0,>=3.0.2 in /usr/local/lib/python2.7/dist-packages (from requests->plotly) (3.0.4)\n"
          ],
          "name": "stdout"
        },
        {
          "output_type": "execute_result",
          "data": {
            "text/plain": [
              "[['', 'Test Statistic', 'p-value'],\n",
              " ['Sample Data', 12.031825898342529, 7.311141197155588e-31]]"
            ]
          },
          "metadata": {
            "tags": []
          },
          "execution_count": 193
        }
      ]
    },
    {
      "metadata": {
        "id": "MkF8UUK3xoFi",
        "colab_type": "text"
      },
      "cell_type": "markdown",
      "source": [
        "*Your explanation:*\n",
        "Since the p-value is less than significance level 0.05, the null hypthesis that true goal difference equals to 0 is rejected. The sample suggested that the true goal difference between home home team and away team is statistically different from 0. This suggests that on average home team goals will be different from away home goals. Since the t-statistics is positive, the data suggests that on average home teams goal more than away teams.  "
      ]
    },
    {
      "metadata": {
        "id": "Cziq_fflxoFj",
        "colab_type": "code",
        "colab": {
          "autoexec": {
            "startup": false,
            "wait_interval": 0
          }
        }
      },
      "cell_type": "code",
      "source": [
        ""
      ],
      "execution_count": 0,
      "outputs": []
    }
  ]
}